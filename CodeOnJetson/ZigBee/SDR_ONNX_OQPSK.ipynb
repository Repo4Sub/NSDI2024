{
 "cells": [
  {
   "cell_type": "code",
   "execution_count": 8,
   "metadata": {},
   "outputs": [],
   "source": [
    "import numpy as np\n",
    "import scipy.io as scio\n",
    "import time\n",
    "import onnxruntime\n",
    "import adi"
   ]
  },
  {
   "cell_type": "code",
   "execution_count": 9,
   "metadata": {},
   "outputs": [
    {
     "name": "stdout",
     "output_type": "stream",
     "text": [
      "(1, 2, 672)\n",
      "1\n",
      "1\n"
     ]
    }
   ],
   "source": [
    "def GenerateSymbolMat(symbol_batch):\n",
    "    _batch_size = symbol_batch.shape[0]\n",
    "    _signal_dimension = symbol_batch.shape[1]\n",
    "    _symbol_length = symbol_batch.shape[2]\n",
    "\n",
    "    symbol_batch_real = np.real(symbol_batch)\n",
    "    symbol_batch_imag = np.imag(symbol_batch)\n",
    "    symbol_batch_mat = np.concatenate((symbol_batch_real,symbol_batch_imag), axis = 1).astype('float32')\n",
    "    \n",
    "    return symbol_batch_mat, _batch_size, _signal_dimension\n",
    "\n",
    "\n",
    "# ZigBee\n",
    "SymbolFilePath = './QPSK_Symbols.mat'\n",
    "SymbolMat = 'QPSK_Symbols'\n",
    "\n",
    "Symbol_file = scio.loadmat(SymbolFilePath)\n",
    "Symbol_batch = Symbol_file[SymbolMat]\n",
    "Symbol_batch = np.expand_dims(Symbol_batch,axis=0)\n",
    "\n",
    "\n",
    "QPSK_Symbols, batch_size, signal_dimension = GenerateSymbolMat(Symbol_batch)\n",
    "print(QPSK_Symbols.shape)\n",
    "print(batch_size)\n",
    "print(signal_dimension)"
   ]
  },
  {
   "cell_type": "code",
   "execution_count": 10,
   "metadata": {},
   "outputs": [
    {
     "name": "stdout",
     "output_type": "stream",
     "text": [
      "Execution provider is CUDAExecutionProvider\n"
     ]
    }
   ],
   "source": [
    "# Execution Provider of ONNX backend\n",
    "EP_list = ['CPUExecutionProvider', 'CUDAExecutionProvider']\n",
    "EPIdx = 1\n",
    "print(\"Execution provider is\", EP_list[EPIdx])\n",
    "OQPSK_session = onnxruntime.InferenceSession(\"OQPSK_Modulator.onnx\",providers=[EP_list[EPIdx]])"
   ]
  },
  {
   "cell_type": "code",
   "execution_count": 11,
   "metadata": {},
   "outputs": [
    {
     "name": "stdout",
     "output_type": "stream",
     "text": [
      "(1, 2690, 2)\n"
     ]
    }
   ],
   "source": [
    "ONNX_Input = {OQPSK_session.get_inputs()[0].name: QPSK_Symbols}\n",
    "ONNX_Output = OQPSK_session.run(None, ONNX_Input)\n",
    "ONNX_Output_array = ONNX_Output[0]\n",
    "print(ONNX_Output_array.shape)"
   ]
  },
  {
   "cell_type": "code",
   "execution_count": 12,
   "metadata": {},
   "outputs": [
    {
     "name": "stdout",
     "output_type": "stream",
     "text": [
      "(1, 2690)\n"
     ]
    }
   ],
   "source": [
    "# Post processing for complex baseband\n",
    "realSig = ONNX_Output_array[:,:,0]\n",
    "imagSig = ONNX_Output_array[:,:,1]\n",
    "cplxSig = realSig + 1j*imagSig\n",
    "print(cplxSig.shape)"
   ]
  },
  {
   "cell_type": "code",
   "execution_count": 13,
   "metadata": {},
   "outputs": [],
   "source": [
    "# Configure Pluto SDR\n",
    "import iio\n",
    "import adi\n",
    "import time\n",
    "\n",
    "sdr = adi.Pluto('ip:192.168.2.1') # or whatever your Pluto's IP is\n",
    "centralFrequency = 2.405e9\n",
    "samplingRate = 4e6\n",
    "sdr.sample_rate = int(samplingRate) # sampling rate\n",
    "sdr.tx_rf_bandwidth = int(samplingRate) # bandwidth\n",
    "sdr.tx_lo = int(centralFrequency)\n",
    "sdr.tx_hardwaregain_chan0 = 0 # Increase to increase tx power, valid range is -90 to 0 dB"
   ]
  },
  {
   "cell_type": "code",
   "execution_count": 14,
   "metadata": {},
   "outputs": [],
   "source": [
    "# numFrames = 100\n",
    "# txWaveform = cplxSig * 2**14 # Range mapping\n",
    "# for pktIdx in range(batch_size):\n",
    "#     samples = txWaveform[pktIdx,:]\n",
    "#     for frameIdx in range(numFrames):\n",
    "#         sdr.tx(samples)\n",
    "#         time.sleep(0.01)\n"
   ]
  },
  {
   "cell_type": "code",
   "execution_count": 15,
   "metadata": {},
   "outputs": [
    {
     "name": "stdout",
     "output_type": "stream",
     "text": [
      "(1, 5378, 2)\n",
      "(1, 5378)\n"
     ]
    }
   ],
   "source": [
    "# Different message length\n",
    "lengthRepeat = np.array([1,2,4,8]) # 16, 32,64,128 octes\n",
    "SymLenIdx = 1\n",
    "repeatFactor = lengthRepeat[SymLenIdx]\n",
    "tmp_symbol = np.repeat(QPSK_Symbols,repeatFactor,axis=2)\n",
    "tmp_ONNX_input = {OQPSK_session.get_inputs()[0].name: tmp_symbol}\n",
    "tmp_ONNX_Output = OQPSK_session.run(None, tmp_ONNX_input)\n",
    "tmp_ONNX_Output_array = tmp_ONNX_Output[0]\n",
    "print(tmp_ONNX_Output_array.shape)\n",
    "# Post processing for complex baseband\n",
    "realSig = tmp_ONNX_Output_array[:,:,0]\n",
    "imagSig = tmp_ONNX_Output_array[:,:,1]\n",
    "cplxSig = realSig + 1j*imagSig\n",
    "print(cplxSig.shape)\n",
    "\n",
    "numFrames = 100\n",
    "txWaveform = cplxSig * 2**14 # Range mapping\n",
    "for pktIdx in range(batch_size):\n",
    "    samples = txWaveform[pktIdx,:]\n",
    "    for frameIdx in range(numFrames):\n",
    "        sdr.tx(samples)\n",
    "        time.sleep(0.02)\n",
    "sdr.tx_destroy_buffer()"
   ]
  }
 ],
 "metadata": {
  "kernelspec": {
   "display_name": "PyADI",
   "language": "python",
   "name": "python3"
  },
  "language_info": {
   "codemirror_mode": {
    "name": "ipython",
    "version": 3
   },
   "file_extension": ".py",
   "mimetype": "text/x-python",
   "name": "python",
   "nbconvert_exporter": "python",
   "pygments_lexer": "ipython3",
   "version": "3.8.15"
  },
  "orig_nbformat": 4,
  "vscode": {
   "interpreter": {
    "hash": "d490d6f1eef7fe8c68140b7e6d7e9bb2c0d51c12d4c7927f44423a124b951ca6"
   }
  }
 },
 "nbformat": 4,
 "nbformat_minor": 2
}
