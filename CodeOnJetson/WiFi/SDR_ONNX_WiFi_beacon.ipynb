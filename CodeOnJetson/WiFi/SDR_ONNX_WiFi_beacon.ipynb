{
 "cells": [
  {
   "cell_type": "code",
   "execution_count": 16,
   "metadata": {},
   "outputs": [],
   "source": [
    "import numpy as np\n",
    "import scipy.io as scio\n",
    "import time\n",
    "import onnxruntime\n",
    "import adi"
   ]
  },
  {
   "cell_type": "code",
   "execution_count": 17,
   "metadata": {},
   "outputs": [
    {
     "name": "stdout",
     "output_type": "stream",
     "text": [
      "(1, 128, 28)\n",
      "1\n",
      "64\n"
     ]
    }
   ],
   "source": [
    "def GenerateSymbolMat(symbol_batch):\n",
    "    _batch_size = symbol_batch.shape[0]\n",
    "    _signal_dimension = symbol_batch.shape[1]\n",
    "    _symbol_length = symbol_batch.shape[2]\n",
    "\n",
    "    symbol_batch_real = np.real(symbol_batch)\n",
    "    symbol_batch_imag = np.imag(symbol_batch)\n",
    "    symbol_batch_mat = np.concatenate((symbol_batch_real,symbol_batch_imag), axis = 1).astype('float32')\n",
    "    \n",
    "    return symbol_batch_mat, _batch_size, _signal_dimension\n",
    "\n",
    "\n",
    "# ZigBee\n",
    "SymbolFilePath = './BeaconPacket.mat'\n",
    "SymbolMat = 'BeaconPacket'\n",
    "\n",
    "Symbol_file = scio.loadmat(SymbolFilePath)\n",
    "Symbol_batch = Symbol_file[SymbolMat]\n",
    "Symbol_batch = np.expand_dims(Symbol_batch,axis=0)\n",
    "\n",
    "\n",
    "Beacon_Symbols, batch_size, signal_dimension = GenerateSymbolMat(Symbol_batch)\n",
    "print(Beacon_Symbols.shape)\n",
    "print(batch_size)\n",
    "print(signal_dimension)"
   ]
  },
  {
   "cell_type": "code",
   "execution_count": 18,
   "metadata": {},
   "outputs": [
    {
     "name": "stdout",
     "output_type": "stream",
     "text": [
      "Execution provider is CUDAExecutionProvider\n"
     ]
    }
   ],
   "source": [
    "# Execution Provider of ONNX backend\n",
    "EP_list = ['CPUExecutionProvider', 'CUDAExecutionProvider']\n",
    "EPIdx = 1\n",
    "print(\"Execution provider is\", EP_list[EPIdx])\n",
    "WiFi_session = onnxruntime.InferenceSession(\"WiFiMod.onnx\",providers=[EP_list[EPIdx]])"
   ]
  },
  {
   "cell_type": "code",
   "execution_count": 19,
   "metadata": {},
   "outputs": [],
   "source": [
    "ONNX_Input = {WiFi_session.get_inputs()[0].name: Beacon_Symbols}\n",
    "ONNX_Output = WiFi_session.run(None, ONNX_Input)\n",
    "ONNX_Output_array = ONNX_Output[0]"
   ]
  },
  {
   "cell_type": "code",
   "execution_count": 20,
   "metadata": {},
   "outputs": [
    {
     "name": "stdout",
     "output_type": "stream",
     "text": [
      "(1, 2320)\n",
      "(2320,)\n"
     ]
    }
   ],
   "source": [
    "# Post processing for complex signals\n",
    "realSig = ONNX_Output_array[:,:,0]\n",
    "imagSig = ONNX_Output_array[:,:,1]\n",
    "cplxSig = realSig + 1j*imagSig\n",
    "print(cplxSig.shape)\n",
    "# txWaveform = 6*cplxSig[0,:] * 2**14 # Range mapping\n",
    "txWaveform = cplxSig[0,:] * 2**14 # Range mapping\n",
    "print(txWaveform.shape)"
   ]
  },
  {
   "cell_type": "code",
   "execution_count": 21,
   "metadata": {},
   "outputs": [],
   "source": [
    "sdr = adi.Pluto('ip:192.168.2.1') # or whatever your Pluto's IP is\n",
    "centralFrequency = 2.462e9\n",
    "samplingRate = 20e6\n",
    "sdr.sample_rate = int(samplingRate) # sampling rate\n",
    "sdr.tx_rf_bandwidth = int(samplingRate) # bandwidth\n",
    "sdr.tx_lo = int(centralFrequency)\n",
    "sdr.tx_hardwaregain_chan0 = 0 # Increase to increase tx power, valid range is -90 to 0 dB"
   ]
  },
  {
   "cell_type": "code",
   "execution_count": 22,
   "metadata": {},
   "outputs": [
    {
     "name": "stdout",
     "output_type": "stream",
     "text": [
      "Send Beacon!\n",
      "Send Beacon!\n",
      "Send Beacon!\n",
      "Send Beacon!\n",
      "Send Beacon!\n",
      "Send Beacon!\n",
      "Send Beacon!\n",
      "Send Beacon!\n",
      "Send Beacon!\n",
      "Send Beacon!\n",
      "Send Beacon!\n",
      "Send Beacon!\n",
      "Send Beacon!\n",
      "Send Beacon!\n",
      "Send Beacon!\n",
      "Send Beacon!\n",
      "Send Beacon!\n",
      "Send Beacon!\n",
      "Send Beacon!\n",
      "Send Beacon!\n",
      "Send Beacon!\n",
      "Send Beacon!\n",
      "Send Beacon!\n",
      "Send Beacon!\n",
      "Send Beacon!\n",
      "Send Beacon!\n",
      "Send Beacon!\n",
      "Send Beacon!\n",
      "Send Beacon!\n",
      "Send Beacon!\n",
      "Send Beacon!\n",
      "Send Beacon!\n",
      "Send Beacon!\n",
      "Send Beacon!\n",
      "Send Beacon!\n",
      "Send Beacon!\n",
      "Send Beacon!\n",
      "Send Beacon!\n",
      "Send Beacon!\n",
      "Send Beacon!\n",
      "Send Beacon!\n",
      "Send Beacon!\n",
      "Send Beacon!\n",
      "Send Beacon!\n"
     ]
    },
    {
     "ename": "KeyboardInterrupt",
     "evalue": "",
     "output_type": "error",
     "traceback": [
      "\u001b[0;31m---------------------------------------------------------------------------\u001b[0m",
      "\u001b[0;31mKeyboardInterrupt\u001b[0m                         Traceback (most recent call last)",
      "Cell \u001b[0;32mIn[22], line 7\u001b[0m\n\u001b[1;32m      5\u001b[0m sdr\u001b[39m.\u001b[39mtx(txWaveform)\n\u001b[1;32m      6\u001b[0m \u001b[39mprint\u001b[39m(\u001b[39m\"\u001b[39m\u001b[39mSend Beacon!\u001b[39m\u001b[39m\"\u001b[39m)\n\u001b[0;32m----> 7\u001b[0m time\u001b[39m.\u001b[39;49msleep(\u001b[39m0.1\u001b[39;49m)\n",
      "\u001b[0;31mKeyboardInterrupt\u001b[0m: "
     ]
    }
   ],
   "source": [
    "numFrames = 100\n",
    "sdr.tx_destroy_buffer()\n",
    "sdr.tx_cyclic_buffer = False\n",
    "for frameIdx in range(numFrames):\n",
    "    sdr.tx(txWaveform)\n",
    "    print(\"Send Beacon!\")\n",
    "    time.sleep(0.1)"
   ]
  },
  {
   "cell_type": "code",
   "execution_count": null,
   "metadata": {},
   "outputs": [],
   "source": [
    "# This part is for test. \n",
    "# NNwifiWaveform is waveform samples \n",
    "# generated by ONNX model running on laptop.\n",
    "Waveform_file = scio.loadmat(\"./NNwifiWaveform.mat\")\n",
    "Waveform_mat = Waveform_file['NNwifiWaveform']\n",
    "numFrames = 100\n",
    "samples = 0.3*Waveform_mat[0,:]\n",
    "samples *= 2**14\n",
    "print(samples[:10])\n",
    "print(txWaveform[:10])"
   ]
  },
  {
   "cell_type": "code",
   "execution_count": null,
   "metadata": {},
   "outputs": [],
   "source": [
    "# sdr.tx_destroy_buffer()\n",
    "# sdr.tx_cyclic_buffer = True\n",
    "# sdr.tx(samples)\n",
    "sdr.tx_destroy_buffer()\n",
    "sdr.tx_cyclic_buffer = False\n",
    "for frameIdx in range(numFrames):\n",
    "    sdr.tx(samples)\n",
    "    print(\"Send Beacon!\")\n",
    "    time.sleep(0.1)"
   ]
  }
 ],
 "metadata": {
  "kernelspec": {
   "display_name": "PyADI",
   "language": "python",
   "name": "python3"
  },
  "language_info": {
   "codemirror_mode": {
    "name": "ipython",
    "version": 3
   },
   "file_extension": ".py",
   "mimetype": "text/x-python",
   "name": "python",
   "nbconvert_exporter": "python",
   "pygments_lexer": "ipython3",
   "version": "3.8.15"
  },
  "orig_nbformat": 4,
  "vscode": {
   "interpreter": {
    "hash": "d490d6f1eef7fe8c68140b7e6d7e9bb2c0d51c12d4c7927f44423a124b951ca6"
   }
  }
 },
 "nbformat": 4,
 "nbformat_minor": 2
}
