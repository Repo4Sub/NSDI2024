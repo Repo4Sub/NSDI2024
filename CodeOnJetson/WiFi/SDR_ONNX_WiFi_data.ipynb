{
 "cells": [
  {
   "cell_type": "code",
   "execution_count": 1,
   "metadata": {},
   "outputs": [],
   "source": [
    "import numpy as np\n",
    "import scipy.io as scio\n",
    "import time\n",
    "import onnxruntime\n",
    "import adi"
   ]
  },
  {
   "cell_type": "code",
   "execution_count": 2,
   "metadata": {},
   "outputs": [
    {
     "name": "stdout",
     "output_type": "stream",
     "text": [
      "GPU\n",
      "['TensorrtExecutionProvider', 'CUDAExecutionProvider', 'CPUExecutionProvider']\n"
     ]
    }
   ],
   "source": [
    "print(onnxruntime.get_device())\n",
    "print(onnxruntime.get_available_providers())"
   ]
  },
  {
   "cell_type": "code",
   "execution_count": 3,
   "metadata": {},
   "outputs": [
    {
     "name": "stdout",
     "output_type": "stream",
     "text": [
      "Input has complex symbols!\n",
      "(61, 128, 27)\n",
      "61\n",
      "64\n"
     ]
    }
   ],
   "source": [
    "def GenerateSymbolMat(MatFile,MatName):\n",
    "    Symbol_file = scio.loadmat(MatFile)\n",
    "    Symbol_batch = Symbol_file[MatName]\n",
    "    _batch_size = Symbol_batch.shape[0]\n",
    "    _signal_dimension = Symbol_batch.shape[1]\n",
    "    _symbol_length = Symbol_batch.shape[2]\n",
    "    _complex_symbol = np.iscomplexobj(Symbol_batch)\n",
    "    if _complex_symbol:\n",
    "        print(\"Input has complex symbols!\")\n",
    "        Symbol_batch_real = np.real(Symbol_batch)\n",
    "        Symbol_batch_imag = np.imag(Symbol_batch)\n",
    "        Symbol_batch_mat = np.concatenate((Symbol_batch_real,Symbol_batch_imag), axis = 1).astype('float32')\n",
    "    else:\n",
    "        print(\"Input has real symbols!\")\n",
    "        Symbol_batch_mat = Symbol_batch.astype('float32')\n",
    "    # Symbol_batch_tensor = torch.tensor(Symbol_batch_mat)\n",
    "    return Symbol_batch_mat, _complex_symbol, _batch_size, _signal_dimension, _symbol_length\n",
    "\n",
    "\n",
    "# ZigBee\n",
    "SymbolFilePath = './txSymbols.mat'\n",
    "SymbolMat = 'txSymbols'\n",
    "\n",
    "Symbol_file = scio.loadmat(SymbolFilePath)\n",
    "Symbol_batch = Symbol_file[SymbolMat]\n",
    "\n",
    "\n",
    "Data_Symbols, complex_symbol, batch_size, signal_dimension, symbol_length = GenerateSymbolMat(SymbolFilePath, SymbolMat)\n",
    "print(Data_Symbols.shape)\n",
    "print(batch_size)\n",
    "print(signal_dimension)"
   ]
  },
  {
   "cell_type": "code",
   "execution_count": 4,
   "metadata": {},
   "outputs": [],
   "source": [
    "# Execution Provider of ONNX backend\n",
    "WiFi_session = onnxruntime.InferenceSession(\"WiFiMod.onnx\",providers=[(\"CUDAExecutionProvider\", {\"cudnn_conv_use_max_workspace\": \"1\", \"cudnn_conv_algo_search\": \"DEFAULT\"}),\"CPUExecutionProvider\"])"
   ]
  },
  {
   "cell_type": "code",
   "execution_count": 5,
   "metadata": {},
   "outputs": [],
   "source": [
    "io_binding = WiFi_session.io_binding()\n",
    "# OnnxRuntime will copy the data over to the CUDA device if 'input' is consumed by nodes on the CUDA device\n",
    "io_binding.bind_cpu_input(WiFi_session.get_inputs()[0].name, Data_Symbols)\n",
    "io_binding.bind_output(WiFi_session.get_outputs()[0].name)\n",
    "WiFi_session.run_with_iobinding(io_binding)\n",
    "ONNX_Output_array = io_binding.copy_outputs_to_cpu()[0]"
   ]
  },
  {
   "cell_type": "code",
   "execution_count": 6,
   "metadata": {},
   "outputs": [
    {
     "name": "stdout",
     "output_type": "stream",
     "text": [
      "(61, 2240)\n",
      "(61, 2240)\n"
     ]
    }
   ],
   "source": [
    "# Post processing for complex signals\n",
    "realSig = ONNX_Output_array[:,:,0]\n",
    "imagSig = ONNX_Output_array[:,:,1]\n",
    "cplxSig = realSig + 1j*imagSig\n",
    "print(cplxSig.shape)\n",
    "txWaveform = 0.3*cplxSig * 2**14 # Range mapping\n",
    "print(txWaveform.shape)"
   ]
  },
  {
   "cell_type": "code",
   "execution_count": 7,
   "metadata": {},
   "outputs": [],
   "source": [
    "sdr = adi.Pluto('ip:192.168.2.1') # or whatever your Pluto's IP is\n",
    "centralFrequency = 2.462e9\n",
    "samplingRate = 20e6\n",
    "sdr.sample_rate = int(samplingRate) # sampling rate\n",
    "sdr.tx_rf_bandwidth = int(samplingRate) # bandwidth\n",
    "sdr.tx_lo = int(centralFrequency)\n",
    "sdr.tx_hardwaregain_chan0 = 0 # Increase to increase tx power, valid range is -90 to 0 dB"
   ]
  },
  {
   "cell_type": "code",
   "execution_count": 10,
   "metadata": {},
   "outputs": [
    {
     "name": "stdout",
     "output_type": "stream",
     "text": [
      "Send Data Packet No. 0 !\n",
      "Send Data Packet No. 10 !\n",
      "Send Data Packet No. 20 !\n",
      "Send Data Packet No. 30 !\n",
      "Send Data Packet No. 40 !\n",
      "Send Data Packet No. 50 !\n",
      "Send Data Packet No. 60 !\n"
     ]
    }
   ],
   "source": [
    "numFrames = txWaveform.shape[0]\n",
    "sdr.tx_destroy_buffer()\n",
    "sdr.tx_cyclic_buffer = False\n",
    "for frameIdx in range(numFrames):\n",
    "    sdr.tx(txWaveform[frameIdx,:])\n",
    "    print(\"Send Data Packet No.\", frameIdx, \"!\")\n",
    "    # if (frameIdx%10) == 0:\n",
    "    #     print(\"Send Data Packet No.\", frameIdx, \"!\")\n",
    "    time.sleep(0.5)"
   ]
  },
  {
   "cell_type": "code",
   "execution_count": null,
   "metadata": {},
   "outputs": [],
   "source": [
    "onnxSig = cplxSig\n",
    "scio.savemat('./WiFiMatlab/onnxSig.mat', {'onnxSig':onnxSig})"
   ]
  },
  {
   "cell_type": "code",
   "execution_count": null,
   "metadata": {},
   "outputs": [],
   "source": [
    "# This part is for test. \n",
    "# NNwifiWaveform is waveform samples \n",
    "# generated by ONNX model running on laptop.\n",
    "Waveform_file = scio.loadmat(\"./txWaveSig.mat\")\n",
    "Waveform_mat = Waveform_file['txWaveSig']\n",
    "numFrames = Waveform_mat.shape[0]\n",
    "samples = 0.3*Waveform_mat[0,:]\n",
    "samples *= 2**14\n",
    "print(samples[:10])\n",
    "print(txWaveform[0,:10])"
   ]
  },
  {
   "cell_type": "code",
   "execution_count": null,
   "metadata": {},
   "outputs": [],
   "source": [
    "# sdr.tx_destroy_buffer()\n",
    "# sdr.tx_cyclic_buffer = True\n",
    "# sdr.tx(samples)\n",
    "sdr.tx_destroy_buffer()\n",
    "sdr.tx_cyclic_buffer = False\n",
    "for frameIdx in range(numFrames):\n",
    "    sdr.tx(samples)\n",
    "    print(\"Send Datapket!\")\n",
    "    time.sleep(0.1)"
   ]
  }
 ],
 "metadata": {
  "kernelspec": {
   "display_name": "PyADI",
   "language": "python",
   "name": "python3"
  },
  "language_info": {
   "codemirror_mode": {
    "name": "ipython",
    "version": 3
   },
   "file_extension": ".py",
   "mimetype": "text/x-python",
   "name": "python",
   "nbconvert_exporter": "python",
   "pygments_lexer": "ipython3",
   "version": "3.8.15"
  },
  "orig_nbformat": 4,
  "vscode": {
   "interpreter": {
    "hash": "d490d6f1eef7fe8c68140b7e6d7e9bb2c0d51c12d4c7927f44423a124b951ca6"
   }
  }
 },
 "nbformat": 4,
 "nbformat_minor": 2
}
