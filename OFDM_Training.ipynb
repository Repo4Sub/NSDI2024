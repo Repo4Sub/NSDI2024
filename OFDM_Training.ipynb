{
 "cells": [
  {
   "cell_type": "code",
   "execution_count": 1,
   "metadata": {},
   "outputs": [],
   "source": [
    "# Some standard imports\n",
    "%matplotlib inline\n",
    "import matplotlib.pyplot as plt\n",
    "import torch\n",
    "import torch.nn as nn\n",
    "import torch.optim as optim\n",
    "import numpy as np\n",
    "import scipy.io as scio\n",
    "import torch.nn.functional as F\n",
    "from torch.nn import Module, Parameter, init"
   ]
  },
  {
   "cell_type": "code",
   "execution_count": 2,
   "metadata": {},
   "outputs": [],
   "source": [
    "class ModulatorTrainingNet(nn.Module):\n",
    "    def __init__(self, signal_dimension, basis_function_length, samples_per_symbol):\n",
    "        super(ModulatorTrainingNet, self).__init__()\n",
    "        self._signal_dimension = signal_dimension\n",
    "        self._basis_function_length = basis_function_length\n",
    "        self._samples_per_symbol = samples_per_symbol\n",
    "        self._kernel_size = [2*self._signal_dimension, 2, self._basis_function_length]\n",
    "\n",
    "        # Initialize weights\n",
    "        self._basis_functions = torch.nn.Parameter(torch.randn(self._signal_dimension, 2, self._basis_function_length))\n",
    "        # Fixed weights for combination in Linear layer\n",
    "        self._combination_weight = torch.Tensor([[1,0,0,-1],[0,1,1,0]])\n",
    "\n",
    "    def forward(self, symbol_vetor):\n",
    "        # Manually split the input into two groups to use shared weights (basis_functions)\n",
    "        symbol_vetor_tuples = torch.chunk(symbol_vetor,chunks=2,dim=1)\n",
    "        # print(len(symbol_vetor_tuples))\n",
    "        symbol_vetor_real = symbol_vetor_tuples[0]\n",
    "        symbol_vetor_imag = symbol_vetor_tuples[1]\n",
    "        # print(symbol_vetor_real.shape)\n",
    "        # print(symbol_vetor_imag.shape)\n",
    "\n",
    "        # Get components for real and imaginary parts\n",
    "        signal_components_1 = F.conv_transpose1d(symbol_vetor_real, weight=self._basis_functions, bias=None, stride=self._samples_per_symbol, padding=0, output_padding=0, groups=1, dilation=1)\n",
    "        signal_components_2 = F.conv_transpose1d(symbol_vetor_imag, weight=self._basis_functions, bias=None, stride=self._samples_per_symbol, padding=0, output_padding=0, groups=1, dilation=1)\n",
    "        # Stack them to form four-channel output\n",
    "        signal_components = torch.cat((signal_components_1,signal_components_2), dim=1)\n",
    "        # Transpose channel <-> length\n",
    "        signal_components_T = torch.transpose(signal_components, dim0=1, dim1=2)\n",
    "        # Combine components\n",
    "        signal_tx = F.linear(input=signal_components_T,weight=self._combination_weight,bias=None)\n",
    "        # signal_tx = self.signal_comb(signal_components_T)\n",
    "        \n",
    "        return signal_tx"
   ]
  },
  {
   "cell_type": "code",
   "execution_count": 3,
   "metadata": {},
   "outputs": [
    {
     "name": "stdout",
     "output_type": "stream",
     "text": [
      "(256, 64, 2)\n",
      "64\n",
      "torch.Size([256, 128, 2])\n",
      "(256, 128)\n",
      "torch.Size([256, 128, 2])\n"
     ]
    }
   ],
   "source": [
    "# Load Data symbol\n",
    "# Final symbol tensors will have a shape of (Batch, Channel, Length)\n",
    "Symbol_file = scio.loadmat('./TrainingWaveform/OFDM/OFDMSymbol_batch.mat')\n",
    "Symbol = Symbol_file['OFDMSymbol_batch']\n",
    "print(Symbol.shape)\n",
    "# Symbol matrix has a shape of (Batch, Channel, Length)\n",
    "signal_dimension = Symbol.shape[1]\n",
    "print(signal_dimension)\n",
    "# Extract real and imaginary parts to form the input mat\n",
    "Symbol_real = np.real(Symbol)\n",
    "Symbol_imag = np.imag(Symbol)\n",
    "Symbol_mat = np.concatenate((Symbol_real, Symbol_imag), axis = 1).astype('float32')\n",
    "\n",
    "# Add a dimension at 0 for Batch\n",
    "Symbol_tensor = torch.tensor(Symbol_mat)\n",
    "print(Symbol_tensor.shape)\n",
    "\n",
    "\n",
    "# Load Waveform\n",
    "# Final Waveform tensors will have a shape of (Batch, Length, 2)\n",
    "Waveform_file = scio.loadmat('./TrainingWaveform/OFDM/OFDMSignal_batch.mat')\n",
    "Waveform = Waveform_file['OFDMSignal_batch']\n",
    "print(Waveform.shape)\n",
    "# Waveform matrix has a shape of (Batch, Length)\n",
    "# Extract real and imaginary parts to form the input mat\n",
    "Waveform_real = np.real(Waveform)\n",
    "Waveform_imag = np.imag(Waveform)\n",
    "Waveform_mat = np.stack((Waveform_real, Waveform_imag), axis = 2).astype('float32')\n",
    "\n",
    "Waveform_tensor = torch.tensor(Waveform_mat)\n",
    "\n",
    "print(Waveform_tensor.shape)"
   ]
  },
  {
   "cell_type": "code",
   "execution_count": 4,
   "metadata": {},
   "outputs": [
    {
     "name": "stdout",
     "output_type": "stream",
     "text": [
      "64\n"
     ]
    }
   ],
   "source": [
    "# Configure basis function\n",
    "basis_fucntion_file = scio.loadmat('./TrainingWaveform/OFDM/InDFTMat.mat')\n",
    "basis_fucntions = basis_fucntion_file['InDFTMat']\n",
    "# Basis function matrix has a shape of (Dimensions, Length) \n",
    "basis_fucntion_length = basis_fucntions.shape[1]\n",
    "print(basis_fucntion_length)\n",
    "# Extract real and imaginary parts of basis functions\n",
    "basis_real_tensor = torch.Tensor(np.real(basis_fucntions)).unsqueeze(dim=1)\n",
    "basis_imag_tensor = torch.Tensor(np.imag(basis_fucntions)).unsqueeze(dim=1)\n",
    "basis_tensor = torch.concat([basis_real_tensor,basis_imag_tensor],dim=1)\n",
    "basis_tensor = torch.concat([basis_tensor,basis_tensor],dim=0)\n",
    "# Configure samples per symbol\n",
    "samples_per_symbol = 64"
   ]
  },
  {
   "cell_type": "code",
   "execution_count": 5,
   "metadata": {},
   "outputs": [],
   "source": [
    "OFDM_Modulator_Train = ModulatorTrainingNet(signal_dimension=signal_dimension, \n",
    "                        basis_function_length=basis_fucntion_length,\n",
    "                        samples_per_symbol=samples_per_symbol)"
   ]
  },
  {
   "cell_type": "code",
   "execution_count": 6,
   "metadata": {},
   "outputs": [
    {
     "name": "stdout",
     "output_type": "stream",
     "text": [
      "Loss:  tensor(0.8461, grad_fn=<MseLossBackward0>)\n",
      "Loss:  tensor(0.0080, grad_fn=<MseLossBackward0>)\n",
      "Loss:  tensor(3.9101e-05, grad_fn=<MseLossBackward0>)\n",
      "Loss:  tensor(3.2813e-07, grad_fn=<MseLossBackward0>)\n",
      "Loss:  tensor(2.4018e-09, grad_fn=<MseLossBackward0>)\n",
      "Loss:  tensor(2.3975e-11, grad_fn=<MseLossBackward0>)\n"
     ]
    }
   ],
   "source": [
    "LR = 0.05\n",
    "epochs = 300\n",
    "list_eps = []\n",
    "list_loss = []\n",
    "\n",
    "optimizer = torch.optim.Adam(OFDM_Modulator_Train.parameters(), lr=LR)      # Adam optimizer\n",
    "loss_function = torch.nn.MSELoss()                           # MSE loss\n",
    "\n",
    "for eps in range(epochs):\n",
    "    featureout1 = OFDM_Modulator_Train.forward(Symbol_tensor)\n",
    "    loss = loss_function(featureout1, Waveform_tensor)\n",
    "    optimizer.zero_grad()\n",
    "    loss.backward(retain_graph=True)\n",
    "    optimizer.step()\n",
    "\n",
    "    if (eps + 1) % 50 == 0:\n",
    "        print(\"Loss: \", loss)\n",
    "        list_eps.append((eps+1)/10)\n",
    "        list_loss.append(loss.item().__float__())"
   ]
  },
  {
   "cell_type": "code",
   "execution_count": 7,
   "metadata": {},
   "outputs": [
    {
     "name": "stdout",
     "output_type": "stream",
     "text": [
      "(128, 64, 2)\n",
      "64\n",
      "torch.Size([128, 128, 2])\n",
      "(128, 128)\n",
      "torch.Size([128, 128, 2])\n"
     ]
    }
   ],
   "source": [
    "#Load test symbols\n",
    "# Load Data symbol\n",
    "# Final symbol tensors will have a shape of (Batch, Channel, Length)\n",
    "Symbol_file = scio.loadmat('./TrainingWaveform/OFDM/OFDMSymbol_batch_test.mat')\n",
    "Symbol = Symbol_file['OFDMSymbol_batch_test']\n",
    "print(Symbol.shape)\n",
    "# Symbol matrix has a shape of (Batch, Channel, Length)\n",
    "signal_dimension = Symbol.shape[1]\n",
    "print(signal_dimension)\n",
    "# Extract real and imaginary parts to form the input mat\n",
    "Symbol_real = np.real(Symbol)\n",
    "Symbol_imag = np.imag(Symbol)\n",
    "Symbol_mat = np.concatenate((Symbol_real, Symbol_imag), axis = 1).astype('float32')\n",
    "\n",
    "# Add a dimension at 0 for Batch\n",
    "Symbol_tensor = torch.tensor(Symbol_mat)\n",
    "print(Symbol_tensor.shape)\n",
    "\n",
    "\n",
    "# Load Waveform\n",
    "# Final Waveform tensors will have a shape of (Batch, Length, 2)\n",
    "Waveform_file = scio.loadmat('./TrainingWaveform/OFDM/OFDMSignal_batch_test.mat')\n",
    "Waveform = Waveform_file['OFDMSignal_batch_test']\n",
    "print(Waveform.shape)\n",
    "# Waveform matrix has a shape of (Batch, Length)\n",
    "# Extract real and imaginary parts to form the input mat\n",
    "Waveform_real = np.real(Waveform)\n",
    "Waveform_imag = np.imag(Waveform)\n",
    "Waveform_mat = np.stack((Waveform_real, Waveform_imag), axis = 2).astype('float32')\n",
    "\n",
    "Waveform_tensor = torch.tensor(Waveform_mat)\n",
    "\n",
    "print(Waveform_tensor.shape)"
   ]
  },
  {
   "cell_type": "code",
   "execution_count": 8,
   "metadata": {},
   "outputs": [
    {
     "name": "stdout",
     "output_type": "stream",
     "text": [
      "tensor(1.8463e-06, grad_fn=<MeanBackward0>)\n"
     ]
    }
   ],
   "source": [
    "MAElossFunction = nn.L1Loss()\n",
    "testWaveform = OFDM_Modulator_Train(Symbol_tensor)\n",
    "maeLoss = MAElossFunction(Waveform_tensor, testWaveform)\n",
    "print(maeLoss)"
   ]
  },
  {
   "cell_type": "code",
   "execution_count": 9,
   "metadata": {},
   "outputs": [
    {
     "name": "stdout",
     "output_type": "stream",
     "text": [
      "(64, 2, 64)\n"
     ]
    }
   ],
   "source": [
    "# Save trained weight\n",
    "TrainedWeight = OFDM_Modulator_Train._basis_functions.detach().numpy()\n",
    "print(TrainedWeight.shape)\n",
    "TrainedWeight_OFDM = {\"TrainedWeight\": TrainedWeight}\n",
    "scio.savemat(\"TrainedWeight_OFDM.mat\", TrainedWeight_OFDM)"
   ]
  }
 ],
 "metadata": {
  "kernelspec": {
   "display_name": "PyTorch",
   "language": "python",
   "name": "python3"
  },
  "language_info": {
   "codemirror_mode": {
    "name": "ipython",
    "version": 3
   },
   "file_extension": ".py",
   "mimetype": "text/x-python",
   "name": "python",
   "nbconvert_exporter": "python",
   "pygments_lexer": "ipython3",
   "version": "3.8.15"
  },
  "orig_nbformat": 4,
  "vscode": {
   "interpreter": {
    "hash": "03c210b107f9f4ef3426c39af96db5ef5e1b52b05149c132b7a963dbe198041b"
   }
  }
 },
 "nbformat": 4,
 "nbformat_minor": 2
}
